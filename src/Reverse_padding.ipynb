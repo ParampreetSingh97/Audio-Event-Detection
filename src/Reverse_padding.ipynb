{
 "cells": [
  {
   "cell_type": "code",
   "execution_count": 1,
   "id": "a4cab233",
   "metadata": {},
   "outputs": [],
   "source": [
    "import numpy as np\n",
    "import pandas as pd\n",
    "import tensorflow as tf\n",
    "import matplotlib.pyplot as plt\n",
    "from numpy import array\n",
    "from numpy import argmax\n",
    "from tensorflow.keras.utils import to_categorical\n",
    "from sklearn.utils import shuffle"
   ]
  },
  {
   "cell_type": "code",
   "execution_count": 2,
   "id": "691067f1",
   "metadata": {},
   "outputs": [],
   "source": [
    "def get_data():\n",
    "    file1 = pd.read_csv(\"C:/Users/param/Downloads/Python Practice/MLSP/Audio_Classification-MLSP/annotations.csv\")\n",
    "    lstx = []\n",
    "    lst_y = []\n",
    "    for m in range(len(file1[\"fname\"])):\n",
    "        lstx.append(file1[\"fname\"][m])\n",
    "        lst_y.append(file1[\"label\"][m])\n",
    "    lst_x = []\n",
    "    for m in lstx:\n",
    "        lst_x.append(np.load(\"C:/Users/param/Downloads/Python Practice/MLSP/Audio_Classification-MLSP/train/\" + m))\n",
    "    del file1\n",
    "    return lst_x, lst_y\n",
    "\n",
    "def reshape_data(lst_x, lst_y):\n",
    "    dict1 = {}\n",
    "    lstyy = []\n",
    "    c = 0\n",
    "    for m in lst_y:\n",
    "        if m not in dict1:\n",
    "            dict1[m] = c\n",
    "            c = c+1\n",
    "        lstyy.append(dict1[m])\n",
    "    N_classes = c+1\n",
    "    del(dict1)\n",
    "    data = lstyy\n",
    "    data = array(data)\n",
    "    del(lstyy)\n",
    "    encoded = to_categorical(data)\n",
    "    del(data)\n",
    "    lst_y = np.array(encoded)\n",
    "    del(encoded)\n",
    "    for b in range(len(lst_x)):\n",
    "        lst_x[b] = lst_x[b].tolist()\n",
    "    count = 0\n",
    "    for m in range(len(lst_x)):\n",
    "        ct = len(lst_x[m][0][0])\n",
    "        if ct > count:\n",
    "            count = ct\n",
    "    for n in range(len(lst_x)):\n",
    "        num_zeros = count - len(lst_x[n][0][0])\n",
    "        zero = [0]*num_zeros\n",
    "        for m in range(len(lst_x[n][0])):\n",
    "            zero.extend(lst_x[n][0][m])\n",
    "            lst_x[n][0][m] = (zero)\n",
    "            zero = [0]*num_zeros\n",
    "    del(zero)\n",
    "    lst1=[]\n",
    "    for m in range(len(lst_x)):\n",
    "        lst1.append(lst_x[m][0])\n",
    "    lst1 = np.array(lst1)\n",
    "    del(lst_x)\n",
    "    return lst1, lst_y"
   ]
  },
  {
   "cell_type": "code",
   "execution_count": 3,
   "id": "6d1c5aec",
   "metadata": {},
   "outputs": [],
   "source": [
    "lst_x, lst_y = get_data()"
   ]
  },
  {
   "cell_type": "code",
   "execution_count": 5,
   "id": "62bd058c",
   "metadata": {},
   "outputs": [],
   "source": [
    "lst_x, lst_y = reshape_data(lst_x, lst_y)"
   ]
  },
  {
   "cell_type": "code",
   "execution_count": 6,
   "id": "68d2367c",
   "metadata": {},
   "outputs": [
    {
     "name": "stdout",
     "output_type": "stream",
     "text": [
      "(1000, 128, 2584)\n"
     ]
    }
   ],
   "source": [
    "print(lst_x.shape)"
   ]
  },
  {
   "cell_type": "code",
   "execution_count": 8,
   "id": "68f8c7f4",
   "metadata": {},
   "outputs": [],
   "source": [
    "np.save(\"x_train_rev\", lst_x)\n",
    "np.save(\"y_train_rev\", lst_y)"
   ]
  }
 ],
 "metadata": {
  "kernelspec": {
   "display_name": "Python 3",
   "language": "python",
   "name": "python3"
  },
  "language_info": {
   "codemirror_mode": {
    "name": "ipython",
    "version": 3
   },
   "file_extension": ".py",
   "mimetype": "text/x-python",
   "name": "python",
   "nbconvert_exporter": "python",
   "pygments_lexer": "ipython3",
   "version": "3.8.8"
  }
 },
 "nbformat": 4,
 "nbformat_minor": 5
}
